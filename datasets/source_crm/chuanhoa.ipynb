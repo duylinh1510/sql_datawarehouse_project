{
 "cells": [
  {
   "cell_type": "code",
   "execution_count": 12,
   "id": "d8ce1ca6",
   "metadata": {},
   "outputs": [
    {
     "name": "stdout",
     "output_type": "stream",
     "text": [
      "✅ File data_clean.csv đã sẵn sàng để import vào SQL Server\n"
     ]
    }
   ],
   "source": [
    "import pandas as pd\n",
    "\n",
    "# Đọc file gốc\n",
    "df = pd.read_csv(\"cust_info.csv\")\n",
    "\n",
    "# --- Chuẩn hóa cst_id ---\n",
    "# Ép về số nguyên (loại bỏ .0 hoặc ký tự lạ)\n",
    "df['cst_id'] = pd.to_numeric(df['cst_id'], errors='coerce').astype('Int64')\n",
    "df = df.dropna(subset=['cst_id'])  # bỏ dòng nào không có ID\n",
    "df['cst_id'] = df['cst_id'].astype(int)\n",
    "\n",
    "# --- Chuẩn hóa text ---\n",
    "for col in ['cst_firstname', 'cst_lastname', 'cst_marital_status', 'cst_gndr']:\n",
    "    df[col] = df[col].astype(str).str.strip()\n",
    "\n",
    "# --- Chuẩn hóa ngày ---\n",
    "df['cst_create_date'] = pd.to_datetime(\n",
    "    df['cst_create_date'], errors='coerce', dayfirst=False\n",
    ").dt.strftime('%Y-%m-%d')   # format chuẩn ISO\n",
    "\n",
    "# Xuất ra file sạch\n",
    "df.to_csv(\"data_clean.csv\", index=False, encoding=\"utf-8-sig\")\n",
    "print(\"✅ File data_clean.csv đã sẵn sàng để import vào SQL Server\")\n"
   ]
  },
  {
   "cell_type": "code",
   "execution_count": 14,
   "id": "118276b1",
   "metadata": {},
   "outputs": [],
   "source": [
    "import pandas as pd\n",
    "\n",
    "df = pd.read_csv(\"data_clean.csv\")\n",
    "\n",
    "# Chuẩn hóa cột giới tính\n",
    "df['cst_gndr'] = df['cst_gndr'].astype(str).str.strip()\n",
    "\n",
    "# Thay NaN hoặc giá trị không hợp lệ thành 'U'\n",
    "df['cst_gndr'] = df['cst_gndr'].replace(['nan', 'NaN', '', 'None'], 'U')\n",
    "\n",
    "# Xuất lại CSV\n",
    "df.to_csv(\"data_clean_fix.csv\", index=False, encoding=\"utf-8-sig\")\n"
   ]
  }
 ],
 "metadata": {
  "kernelspec": {
   "display_name": "Python 3",
   "language": "python",
   "name": "python3"
  },
  "language_info": {
   "codemirror_mode": {
    "name": "ipython",
    "version": 3
   },
   "file_extension": ".py",
   "mimetype": "text/x-python",
   "name": "python",
   "nbconvert_exporter": "python",
   "pygments_lexer": "ipython3",
   "version": "3.10.0"
  }
 },
 "nbformat": 4,
 "nbformat_minor": 5
}
